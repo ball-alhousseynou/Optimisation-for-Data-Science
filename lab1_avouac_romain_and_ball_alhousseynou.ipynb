{
  "nbformat": 4,
  "nbformat_minor": 0,
  "metadata": {
    "anaconda-cloud": {},
    "kernelspec": {
      "display_name": "Python 3",
      "language": "python",
      "name": "python3"
    },
    "language_info": {
      "codemirror_mode": {
        "name": "ipython",
        "version": 3
      },
      "file_extension": ".py",
      "mimetype": "text/x-python",
      "name": "python",
      "nbconvert_exporter": "python",
      "pygments_lexer": "ipython3",
      "version": "3.7.3"
    },
    "colab": {
      "name": "lab1_avouac_romain_and_ball_alhousseynou.ipynb",
      "provenance": []
    }
  },
  "cells": [
    {
      "cell_type": "markdown",
      "metadata": {
        "id": "faHe51FoJ1p7",
        "colab_type": "text"
      },
      "source": [
        "# Lab 1 : First order methods on regression models\n",
        "\n",
        "#### Authors: A. Gramfort, R. Gower, P. Ablin, M. Massias, Q. Bertrand, N. Gazagnadou\n",
        "\n",
        "## Aim\n",
        "\n",
        "The aim of this material is to code \n",
        "- proximal gradient descent (PGD)\n",
        "- accelerated proximal gradient descent (APGD) \n",
        "\n",
        "for \n",
        "- linear regression\n",
        "- logistic regression \n",
        "\n",
        "models.\n",
        "\n",
        "The proximal operators we will use are the \n",
        "- L2 penalization\n",
        "- L1 penalization\n",
        "\n",
        "## VERY IMPORTANT\n",
        "\n",
        "- This work **must be done by pairs of students**.\n",
        "- **Each** student must send their work **before the 6th of october at 21:59**, using the **moodle platform**.\n",
        "- This means that **each student in the pair sends the same file**\n",
        "- On the moodle, in the \"Optimization for Data Science\" course, you have a \"devoir\" section called **Rendu TP du 30 septembre 2019**. This is where you submit your jupyter notebook file. \n",
        "- The **name of the file must be** constructed as in the next cell\n",
        "\n",
        "# Gentle reminder: no evaluation if you don't respect this EXACTLY\n",
        "\n",
        "### How to construct the name of your file"
      ]
    },
    {
      "cell_type": "code",
      "metadata": {
        "id": "o9p8R2tZJ1qF",
        "colab_type": "code",
        "outputId": "35df915e-ef7d-4ea5-d09d-b401e56250e8",
        "colab": {
          "base_uri": "https://localhost:8080/",
          "height": 34
        }
      },
      "source": [
        "# Change here using YOUR first and last names\n",
        "fn1 = \"romain\"\n",
        "ln1 = \"avouac\"\n",
        "fn2 = \"alhousseynou\"\n",
        "ln2 = \"ball\"\n",
        "\n",
        "filename = \"_\".join(map(lambda s: s.strip().lower(), \n",
        "                        [\"lab1\", ln1, fn1, \"and\", ln2, fn2])) + \".ipynb\"\n",
        "print(filename)"
      ],
      "execution_count": 0,
      "outputs": [
        {
          "output_type": "stream",
          "text": [
            "lab1_avouac_romain_and_ball_alhousseynou.ipynb\n"
          ],
          "name": "stdout"
        }
      ]
    },
    {
      "cell_type": "code",
      "metadata": {
        "id": "ekIeaxhBJ1qf",
        "colab_type": "code",
        "colab": {}
      },
      "source": [
        "## to embed figures in the notebook\n",
        "%matplotlib inline"
      ],
      "execution_count": 0,
      "outputs": []
    },
    {
      "cell_type": "markdown",
      "metadata": {
        "id": "gmarcaJQJ1qx",
        "colab_type": "text"
      },
      "source": [
        "## Part 0 : Introduction\n",
        "\n",
        "We'll start by generating sparse vectors and simulating data\n",
        "\n",
        "### Generating sparse coefficients"
      ]
    },
    {
      "cell_type": "code",
      "metadata": {
        "id": "xbcK2EQ2J1q3",
        "colab_type": "code",
        "colab": {}
      },
      "source": [
        "import numpy as np\n",
        "import matplotlib.pyplot as plt\n",
        "from numpy.linalg import norm\n",
        "np.set_printoptions(precision=2)  # to have simpler print outputs with numpy"
      ],
      "execution_count": 0,
      "outputs": []
    },
    {
      "cell_type": "code",
      "metadata": {
        "scrolled": false,
        "id": "9dsRhBvhJ1rH",
        "colab_type": "code",
        "outputId": "22ae5b29-43a6-4fe4-9f11-f98e71172151",
        "colab": {
          "base_uri": "https://localhost:8080/",
          "height": 298
        }
      },
      "source": [
        "n_features = 50\n",
        "n_samples = 1000\n",
        "idx = np.arange(n_features)\n",
        "coefs = ((-1) ** idx) * np.exp(-idx / 10.)\n",
        "coefs[20:] = 0.\n",
        "plt.stem(coefs)\n",
        "plt.title(\"Parameters / Coefficients\")"
      ],
      "execution_count": 0,
      "outputs": [
        {
          "output_type": "execute_result",
          "data": {
            "text/plain": [
              "Text(0.5, 1.0, 'Parameters / Coefficients')"
            ]
          },
          "metadata": {
            "tags": []
          },
          "execution_count": 4
        },
        {
          "output_type": "display_data",
          "data": {
            "image/png": "[encoded data removed]",
            "text/plain": [
              "<Figure size 432x288 with 1 Axes>"
            ]
          },
          "metadata": {
            "tags": []
          }
        }
      ]
    },
    {
      "cell_type": "markdown",
      "metadata": {
        "id": "IiuZ2iZNJ1rb",
        "colab_type": "text"
      },
      "source": [
        "### Functions for the simulation of the models"
      ]
    },
    {
      "cell_type": "code",
      "metadata": {
        "id": "kg7LvJ9fJ1rh",
        "colab_type": "code",
        "colab": {}
      },
      "source": [
        "from numpy.random import multivariate_normal\n",
        "from scipy.linalg.special_matrices import toeplitz\n",
        "from numpy.random import randn\n",
        "\n",
        "\n",
        "def simu_linreg(coefs, n_samples=1000, corr=0.5):\n",
        "    \"\"\"Simulation of a linear regression model\n",
        "    \n",
        "    Parameters\n",
        "    ----------\n",
        "    coefs : `numpy.array`, shape (n_features,)\n",
        "        Coefficients of the model\n",
        "    \n",
        "    n_samples : `int`, default=1000\n",
        "        Number of samples to simulate\n",
        "    \n",
        "    corr : `float`, default=0.5\n",
        "        Correlation of the features\n",
        "\n",
        "    Returns\n",
        "    -------\n",
        "    A : `numpy.ndarray`, shape (n_samples, n_features)\n",
        "        Simulated features matrix. It samples of a centered Gaussian \n",
        "        vector with covariance given by the Toeplitz matrix\n",
        "    \n",
        "    b : `numpy.array`, shape (n_samples,)\n",
        "        Simulated labels\n",
        "    \"\"\"\n",
        "    # Construction of a covariance matrix\n",
        "    cov = toeplitz(corr ** np.arange(0, n_features))\n",
        "    # Simulation of features\n",
        "    A = multivariate_normal(np.zeros(n_features), cov, size=n_samples)\n",
        "    # Simulation of the labels\n",
        "    b = A.dot(coefs) + randn(n_samples)\n",
        "    b = b.reshape((n_samples, 1)) # reshape b to enable matrix multiplication\n",
        "    return A, b\n",
        "\n",
        "def sigmoid(t):\n",
        "    \"\"\"Sigmoid function\"\"\"\n",
        "    return 1. / (1. + np.exp(-t))\n",
        "\n",
        "def simu_logreg(coefs, n_samples=1000, corr=0.5):\n",
        "    \"\"\"Simulation of a logistic regression model\n",
        "    \n",
        "    Parameters\n",
        "    ----------\n",
        "    coefs : `numpy.array`, shape (n_features,)\n",
        "        Coefficients of the model\n",
        "    \n",
        "    n_samples : `int`, default=1000\n",
        "        Number of samples to simulate\n",
        "    \n",
        "    corr : `float`, default=0.5\n",
        "        Correlation of the features\n",
        "\n",
        "    Returns\n",
        "    -------\n",
        "    A : `numpy.ndarray`, shape (n_samples, n_features)\n",
        "        Simulated features matrix. It samples of a centered Gaussian \n",
        "        vector with covariance given by the Toeplitz matrix\n",
        "    \n",
        "    b : `numpy.array`, shape (n_samples,)\n",
        "        Simulated labels\n",
        "    \"\"\"\n",
        "    cov = toeplitz(corr ** np.arange(0, n_features))\n",
        "    A = multivariate_normal(np.zeros(n_features), cov, size=n_samples)\n",
        "    p = sigmoid(A.dot(coefs))\n",
        "    b = np.random.binomial(1, p, size=n_samples)\n",
        "    b = 2 * b - 1\n",
        "    b = b.reshape((n_samples, 1)) # reshape b to enable matrix multiplication\n",
        "    return A, b"
      ],
      "execution_count": 0,
      "outputs": []
    },
    {
      "cell_type": "markdown",
      "metadata": {
        "id": "2o1pNt_LJ1ry",
        "colab_type": "text"
      },
      "source": [
        "## Generate the data"
      ]
    },
    {
      "cell_type": "code",
      "metadata": {
        "id": "AKzlA-XaJ1r3",
        "colab_type": "code",
        "colab": {}
      },
      "source": [
        "A, b = simu_linreg(coefs)\n",
        "# A, b = simu_logreg(coefs)  # uncomment when you want to test logistic regression"
      ],
      "execution_count": 0,
      "outputs": []
    },
    {
      "cell_type": "markdown",
      "metadata": {
        "id": "cKFkzPWrJ1sH",
        "colab_type": "text"
      },
      "source": [
        "## Part 1 : Proximal operators"
      ]
    },
    {
      "cell_type": "markdown",
      "metadata": {
        "id": "FwYBy0O6J1sM",
        "colab_type": "text"
      },
      "source": [
        "We remind that the proximal operator of a function $R$ is given by:\n",
        "\n",
        "$$\n",
        "\\text{prox}_{\\lambda\\,R}(x) = \\arg\\min_z \\left\\{ \\frac{1}{2} \\Vert x - z\\Vert_2^2 + \\lambda \\,R(z) \\right\\}.\n",
        "$$\n",
        "\n",
        "\n",
        "We have in mind to use the following cases\n",
        "\n",
        "- L2 penalization: $\\lambda\\, R(z) = \\frac{\\lambda}{2} \\|z\\|_2^2$\n",
        "- L1 penalization: $\\lambda\\, R(z) = \\lambda\\|z|\\|_1$\n",
        "\n",
        "where $\\lambda \\geq 0$ is a regularization parameter."
      ]
    },
    {
      "cell_type": "markdown",
      "metadata": {
        "id": "EA_s9OR-J1sS",
        "colab_type": "text"
      },
      "source": [
        "<div class=\"alert alert-success\">\n",
        "    <b>Questions</b>:\n",
        "     <ul>\n",
        "      <li>Code a function that computes $\\lambda \\, R(x)$ in both cases and $\\text{prox}_{\\lambda\\, R}(x)$ for L2 and  L1 penalization (use the slides of the first course to get the formulas), using the prototypes given below</li>\n",
        "     <li>Hint: for the prox of the L1 norm you can either use the formula from the course or rewrite it with np.max and np.sign functions\n",
        "    </li>\n",
        "      <li>Visualize the identity function and the proximity operators of the L2 and L1 on the real axis\n",
        "    </li>\n",
        "    </ul>\n",
        "</div>"
      ]
    },
    {
      "cell_type": "code",
      "metadata": {
        "id": "ILFdCneFJ1sY",
        "colab_type": "code",
        "colab": {}
      },
      "source": [
        "def prox_L1(x, lmbd):\n",
        "    \"\"\"Proximal operator for the L1 at x\"\"\"\n",
        "    z = np.sign(x) * np.maximum(np.abs(x) - lmbd, 0)\n",
        "    return z\n",
        "\n",
        "def L1_norm(x, lmbd):\n",
        "    \"\"\"Value of the L1 penalization at x\"\"\"\n",
        "    return lmbd*norm(x, 1)\n",
        "\n",
        "def prox_L2(x, lmbd):\n",
        "    \"\"\"Proximal operator for the L2 at x\"\"\"\n",
        "    z = x / (1+2*lmbd)\n",
        "    return z\n",
        "\n",
        "def L2_norm(x, lmbd):\n",
        "    \"\"\"Value of the L2 penalization at x\"\"\"\n",
        "    return (lmbd/2)*norm(x, 2)"
      ],
      "execution_count": 0,
      "outputs": []
    },
    {
      "cell_type": "code",
      "metadata": {
        "id": "lQ4lHkv4J1st",
        "colab_type": "code",
        "outputId": "3dfc29a7-9613-4cc3-9434-1318f003a200",
        "colab": {
          "base_uri": "https://localhost:8080/",
          "height": 297
        }
      },
      "source": [
        "# Plots TODO\n",
        "lambda_test = 5\n",
        "x_range = np.array(range(-10, 10, 1))\n",
        "y_prox_l1 = np.array([prox_L1(x, lambda_test) for x in x_range])\n",
        "y_prox_l2 = np.array([prox_L2(x, lambda_test) for x in x_range])\n",
        "y_identity = x_range\n",
        "\n",
        "fig, plt_compar_prox = plt.subplots(1, 1, figsize=(8, 4))\n",
        "plt_compar_prox.plot(x_range, y_identity, color='blue', label='identity')\n",
        "plt_compar_prox.plot(x_range, y_prox_l1, color='red', label='prox_l1')\n",
        "plt_compar_prox.plot(x_range, y_prox_l2, color='green', label='prox_l2')\n",
        "plt_compar_prox.set_title('Visualization of proximal operators', size=12)\n",
        "plt_compar_prox.legend()\n",
        "plt.tight_layout()"
      ],
      "execution_count": 0,
      "outputs": [
        {
          "output_type": "display_data",
          "data": {
            "image/png": "[encoded data removed]",
            "text/plain": [
              "<Figure size 576x288 with 1 Axes>"
            ]
          },
          "metadata": {
            "tags": []
          }
        }
      ]
    },
    {
      "cell_type": "markdown",
      "metadata": {
        "id": "EOqIZHU4J1tB",
        "colab_type": "text"
      },
      "source": [
        "## Visualization\n",
        "\n",
        "We are now going to visualize the effect of the proximity operators on coefficients."
      ]
    },
    {
      "cell_type": "code",
      "metadata": {
        "scrolled": false,
        "id": "kyXUVzCXJ1tK",
        "colab_type": "code",
        "outputId": "efa1f290-0c84-4e2a-eb9f-42be00f64921",
        "colab": {
          "base_uri": "https://localhost:8080/",
          "height": 300
        }
      },
      "source": [
        "x = randn(50)\n",
        "l_l1 = 1.\n",
        "l_l2 = 0.5\n",
        "\n",
        "plt.figure(figsize=(15.0, 4.0))\n",
        "plt.subplot(1, 3, 1)\n",
        "plt.stem(x)\n",
        "plt.title(\"Original parameter\", fontsize=16)\n",
        "plt.ylim([-2, 2])\n",
        "plt.subplot(1, 3, 2)\n",
        "plt.stem(prox_L1(x, lmbd=l_l1))\n",
        "plt.title(\"Proximal L1\", fontsize=16)\n",
        "plt.ylim([-2, 2])\n",
        "plt.subplot(1, 3, 3)\n",
        "plt.stem(prox_L2(x, lmbd=l_l2))\n",
        "plt.title(\"Proximal L2\", fontsize=16)\n",
        "plt.ylim([-2, 2])"
      ],
      "execution_count": 0,
      "outputs": [
        {
          "output_type": "execute_result",
          "data": {
            "text/plain": [
              "(-2, 2)"
            ]
          },
          "metadata": {
            "tags": []
          },
          "execution_count": 9
        },
        {
          "output_type": "display_data",
          "data": {
            "image/png": "[encoded data removed]",
            "text/plain": [
              "<Figure size 1080x288 with 3 Axes>"
            ]
          },
          "metadata": {
            "tags": []
          }
        }
      ]
    },
    {
      "cell_type": "markdown",
      "metadata": {
        "id": "7lPq8Hu6J1tm",
        "colab_type": "text"
      },
      "source": [
        "<div class=\"alert alert-success\">\n",
        "    <b>Question</b>:\n",
        "     <ul>\n",
        "      <li>Comment what you observe (1 or 2 sentences).</li>\n",
        "    </ul>\n",
        "</div>"
      ]
    },
    {
      "cell_type": "markdown",
      "metadata": {
        "id": "wNc-zV63J1t2",
        "colab_type": "text"
      },
      "source": [
        "Due to soft-tresholding, using the L1 norm penalization sets most coefficients to zero, except the ones that were initially the highest. The L2 norm penalization only reduces the weights, but don't cancel them altogether. For both norms, the effect increases as the penalization level rises, controlled by the value of lambda."
      ]
    },
    {
      "cell_type": "markdown",
      "metadata": {
        "id": "7MXpWWnwJ1t_",
        "colab_type": "text"
      },
      "source": [
        "## Part 2: Gradients\n",
        "\n",
        "The problems we want to minimize take the form:\n",
        "$$\n",
        "\\arg\\min_x f(x) + \\lambda \\,R(x)\n",
        "$$\n",
        "where $f$ is $L$-smooth and $R$ is prox friendly.\n",
        "\n",
        "Consider the following cases:\n",
        "\n",
        "**Linear regression**, where \n",
        "$$\n",
        "f(x) = \\frac{1}{2n} \\sum_{i=1}^n (b_i - a_i^\\top x)^2 = \\frac{1}{2 n} \\| b - A x \\|_2^2,\n",
        "$$\n",
        "where $n$ is the sample size, $b = [b_1 \\cdots b_n]$ is the vector of labels and $A^\\top = [a_1,\\ldots, a_n] \\in \\mathbb{R}^{d \\times n}$ is the matrix of features.\n",
        "\n",
        "**Logistic regression**, where\n",
        "$$\n",
        "f(x) = \\frac{1}{n} \\sum_{i=1}^n \\log(1 + \\exp(-b_i a_i^\\top x)),\n",
        "$$\n",
        "where $n$ is the sample size, and where labels $b_i \\in \\{ -1, 1 \\}$ for all $i$.\n",
        "\n",
        "We need to be able to compute $f$ and its gradient $\\nabla f$"
      ]
    },
    {
      "cell_type": "markdown",
      "metadata": {
        "id": "sSi0psSQJ1uG",
        "colab_type": "text"
      },
      "source": [
        "<div class=\"alert alert-success\">\n",
        "    <b>Questions</b>:\n",
        "     <ul>\n",
        "      <li>Compute on paper the gradient $\\nabla f$ of $f$ for both cases (linear and logistic regression)</li>\n",
        "      <li>Code a function that computes $f$ and its gradient $\\nabla f$ in both cases, using the prototypes below.</li>\n",
        "      <li>Check that these loss functions are correct by numerically checking their ouputs</li>\n",
        "      <li>Check that these functions are correct by numerically checking the gradient, using the function ``<a href=\"https://docs.scipy.org/doc/scipy/reference/generated/scipy.optimize.check_grad.html\">check_grad</a>`` from ``scipy.optimize``. Remark: use the functions `simu_linreg` and `simu_logreg` to simulate data according to the right model</li>\n",
        "    </ul>\n",
        "</div>"
      ]
    },
    {
      "cell_type": "code",
      "metadata": {
        "id": "lbodP5JlJ1uM",
        "colab_type": "code",
        "colab": {}
      },
      "source": [
        "def loss_linreg(x, A, b):\n",
        "    \"\"\"Least squares loss\"\"\"\n",
        "    x_vec = np.reshape(x, (n_features, 1))\n",
        "    loss = 1/(2*n_samples) * norm(b - A@x_vec, 2)**2\n",
        "    return loss\n",
        "\n",
        "def grad_linreg(x, A, b):\n",
        "    \"\"\"Least squares gradient\"\"\"\n",
        "    x_vec = np.reshape(x, (n_features, 1))\n",
        "    grad = (-1/n_samples) * A.T @ (b - A@x_vec)\n",
        "    grad = grad.flatten()\n",
        "    return grad\n",
        "\n",
        "def loss_logreg(x, A, b):\n",
        "    \"\"\"Logistic loss\"\"\"\n",
        "    x_vec = np.reshape(x, (n_features, 1))\n",
        "    loss = (1/n_samples) * np.sum(np.log(1 + np.exp(-b * A@x_vec)))\n",
        "    return loss\n",
        "\n",
        "def grad_logreg(x, A, b):\n",
        "    \"\"\"Logistic gradient\"\"\"\n",
        "    x_vec = np.reshape(x, (n_features, 1))\n",
        "    vec_terms_sum = np.array([b[i]*np.exp(-b[i] * A[i]@x_vec) / (1 + np.exp(-b[i] * A[i]@x_vec)) * A[i] for i in range(n_samples)])\n",
        "    grad = -(1/n_samples) * np.sum(vec_terms_sum, 0)\n",
        "    # grad = grad.flatten()\n",
        "    return grad\n",
        "\n",
        "# TO BE COMPLETED"
      ],
      "execution_count": 0,
      "outputs": []
    },
    {
      "cell_type": "code",
      "metadata": {
        "id": "Hxf54ZZCJ1uf",
        "colab_type": "code",
        "colab": {}
      },
      "source": [
        "# Check that the losses are not wrong by computing them in zero\n",
        "x_zeros = np.zeros(50)\n",
        "x_zeros = np.reshape(x_zeros, (n_features, 1))\n",
        "assert(np.isclose(loss_linreg(x_zeros, A, b), 1/(2*n_samples) * np.sum(b**2)))\n",
        "assert(np.isclose(loss_logreg(x_zeros, A, b), np.log(2)))"
      ],
      "execution_count": 0,
      "outputs": []
    },
    {
      "cell_type": "code",
      "metadata": {
        "id": "1NYeQh-qJ1uz",
        "colab_type": "code",
        "outputId": "433ab0a5-22e9-424e-fdb6-589cf2985273",
        "colab": {
          "base_uri": "https://localhost:8080/",
          "height": 51
        }
      },
      "source": [
        "# Check that the gradients are correct using a random vector\n",
        "from scipy.optimize import check_grad, approx_fprime\n",
        "x_test = randn(n_features)\n",
        "\n",
        "# For linear regression\n",
        "print(check_grad(loss_linreg, grad_linreg, x_test, A, b))\n",
        "\n",
        "# For logistic regression\n",
        "A_log_check, b_log_check = simu_logreg(coefs) \n",
        "b_log_check = b_log_check.reshape((n_samples, 1))\n",
        "print(check_grad(loss_logreg, grad_logreg, x_test, A_log_check, b_log_check))"
      ],
      "execution_count": 0,
      "outputs": [
        {
          "output_type": "stream",
          "text": [
            "2.448924041497985e-06\n",
            "2.2135777456363877e-07\n"
          ],
          "name": "stdout"
        }
      ]
    },
    {
      "cell_type": "markdown",
      "metadata": {
        "id": "ORp4yZUyJ1vL",
        "colab_type": "text"
      },
      "source": [
        "The output values of the check_grad are very small, which indicate that our gradient functions give very close results to finite-difference approximations computed numerically. We can thus be confident that our gradient functions correctly compute gradients of our loss functions."
      ]
    },
    {
      "cell_type": "markdown",
      "metadata": {
        "id": "Cwal-tdWJ1vQ",
        "colab_type": "text"
      },
      "source": [
        "## Part 3: Solvers"
      ]
    },
    {
      "cell_type": "markdown",
      "metadata": {
        "id": "SzuhRcq8J1vZ",
        "colab_type": "text"
      },
      "source": [
        "We know have a function to compute $f$, $\\nabla f$ and $R$ and $\\text{prox}_{\\lambda R}$. \n",
        "\n",
        "We want now to code the PGD and APGD solvers to minimize\n",
        "\n",
        "$$\n",
        "\\arg\\min_x f(x) + \\lambda \\, R(x)\n",
        "$$\n",
        "\n",
        "where $\\lambda >0$ is the regularization parameter"
      ]
    },
    {
      "cell_type": "markdown",
      "metadata": {
        "id": "Tdfyw5jOJ1ve",
        "colab_type": "text"
      },
      "source": [
        "<div class=\"alert alert-success\">\n",
        "    <b>Questions</b>:\n",
        "     <ul>\n",
        "      <li>Compute on paper the Lipschitz constant for linear and logistic regression losses. Remark: for the logistic regression, you should try to upper bound the second derivative</li>\n",
        "      <li>Hint: the computation of the Lipschitz constant for the linear regression should be easy (cf course).\n",
        "         But the computation of the Lipschitz constant for the logistic regression may be trickier. \n",
        "                 You may want to write $f$ as $f(x) = \\frac{1}{n} \\sum_i \\phi(b_i a_i^\\top x)$, and then show that $|\\phi''| \\leq \\frac{1}{4}$.</li>\n",
        "      <li>Implement functions that compute the Lipschitz constant for both cases (linear and logistic regression). Note that the operator norm of a matrix can \n",
        "  be computed using the function <a href=\"https://docs.scipy.org/doc/numpy/reference/generated/numpy.linalg.norm.html\">numpy.linalg.norm</a> (Be careful with the norm you chose! Read the documentation\n",
        "  of the function)</li>\n",
        "      <li>Finish the functions `PGD` and `APGD` below that implements the \n",
        "  PGD (Proximal Gradient Descent) and APGD (Accelerated Proximal \n",
        "  Gradient Descent) algorithms.\n",
        "       Note: PGD is sometimes called ISTA (Iterative Soft Thresholding Algorithm) and APGD is sometimes called FISTA (Fast ISTA)</li> \n",
        "    </ul>\n",
        "</div>"
      ]
    },
    {
      "cell_type": "markdown",
      "metadata": {
        "id": "NKCIPxh1J1vl",
        "colab_type": "text"
      },
      "source": [
        "### Computation of Lipschitz constants for linear and logistic regression losses"
      ]
    },
    {
      "cell_type": "markdown",
      "metadata": {
        "id": "kIu8A2spJ1vt",
        "colab_type": "text"
      },
      "source": [
        "We know that the linear regression loss is $\\frac{\\sigma_{max}(A)^2}{n}$-smooth, where $\\sigma_{max}(A)$ is the highest singular value of A.\n",
        "\n",
        "For logistic regression, we have $f(x)=\\frac{1}{n}\\sum_{i=1}^n\\phi(b_i a_i^T x)$ with $\\phi=\\log \\circ \\: (1+\\exp)$. \n",
        "\n",
        "Since $\\forall x, x(1-x) \\leq \\frac{1}{4}$, we have $\\forall y, \\phi''(y)=\\phi'(y)(1-\\phi'(y)) \\leq \\frac{1}{4}$.\n",
        "\n",
        "So we have : $\\nabla^²f(x)=\\frac{1}{n}\\sum_{i=1}^n\\phi''(-b_i a_i^T x) a_i^T a_i \\leq \\frac{1}{4n} \\sum_{i=1}^na_i^T a_i = \\frac{1}{4n} A^T A$.\n",
        "\n",
        "Thus finally : $\\forall d, d^T \\nabla^²f(x) d \\leq \\frac{1}{4n} d^T A^T A D = \\frac{1}{4n} \\parallel Ad \\parallel^2_2$ and since by property : $\\parallel Ad \\parallel^2_2 \\leq \\sigma_{max}(A)² \\parallel d \\parallel^2_2$, we conclude that the logistic regression loss is $\\frac{\\sigma_{max}(A)^2}{4n}$-smooth."
      ]
    },
    {
      "cell_type": "code",
      "metadata": {
        "id": "TBjbDw3wJ1v0",
        "colab_type": "code",
        "colab": {}
      },
      "source": [
        "# TO BE COMPLETED\n",
        "from numpy.linalg import svd\n",
        "\n",
        "# Calculate the smoothness constant for least squares loss\n",
        "def smoothness_const_linreg(A):\n",
        "    \"\"\"Lipschitz constant for least squares loss\"\"\" \n",
        "    max_sing_val = svd(A, compute_uv=False)[0] # Compute max singular value of A via SVD decomposition\n",
        "    smooth_const = max_sing_val**2 / n_samples\n",
        "    return smooth_const\n",
        "\n",
        "# Calculate the smoothness constant for logistic loss    \n",
        "def smoothness_const_logreg(A):\n",
        "    \"\"\"Lipschitz constant for logistic loss\"\"\"    \n",
        "    max_sing_val = svd(A, compute_uv=False)[0] # Compute max singular value of A via SVD decomposition\n",
        "    smooth_const = max_sing_val**2 / (4*n_samples)\n",
        "    return smooth_const\n",
        "\n",
        "# Compute smoothness constants\n",
        "smooth_linreg = smoothness_const_linreg(A)\n",
        "smooth_logreg = smoothness_const_logreg(A)"
      ],
      "execution_count": 0,
      "outputs": []
    },
    {
      "cell_type": "code",
      "metadata": {
        "id": "hvZEk4tbJ1wO",
        "colab_type": "code",
        "colab": {}
      },
      "source": [
        "def PGD(x0, A, b, f, grad_f, R, prox_R, step, lmbd=0., n_iter=50,\n",
        "         x_true=coefs, verbose=True):\n",
        "    \"\"\"Proximal gradient descent algorithm\"\"\"\n",
        "    x = x0.copy()\n",
        "    n_samples, n_features = A.shape\n",
        "\n",
        "    # estimation error history\n",
        "    errors = []\n",
        "    # objective history\n",
        "    objectives = []\n",
        "    # Current estimation error\n",
        "    err = norm(x - x_true) / norm(x_true)\n",
        "    errors.append(err)\n",
        "    # Current objective\n",
        "    obj = f(x, A, b) + R(x, lmbd)\n",
        "    objectives.append(obj)\n",
        "    if verbose:\n",
        "        print(\"Lauching PGD solver...\")\n",
        "        print(' | '.join([name.center(8) for name in [\"it\", \"obj\", \"err\"]]))\n",
        "    for k in range(n_iter + 1):\n",
        "\n",
        "        #### TODO ####\n",
        "        x = prox_R(x - step*grad_f(x, A, b), lmbd*step)\n",
        "        obj = f(x, A, b) + R(x, lmbd)\n",
        "        err = norm(x - x_true) / norm(x_true)\n",
        "        errors.append(err)\n",
        "        objectives.append(obj)\n",
        "        if k % 10 == 0 and verbose:\n",
        "            print(' | '.join([(\"%d\" % k).rjust(8), \n",
        "                              (\"%.2e\" % obj).rjust(8), \n",
        "                              (\"%.2e\" % err).rjust(8)]))\n",
        "    return x, np.array(objectives), np.array(errors)"
      ],
      "execution_count": 0,
      "outputs": []
    },
    {
      "cell_type": "code",
      "metadata": {
        "id": "Yt-GDwGBJ1ws",
        "colab_type": "code",
        "colab": {}
      },
      "source": [
        "# TO BE COMPLETED\n",
        "\n",
        "def APGD(x0, A, b, f, grad_f, R, prox_R, step, lmbd=0., n_iter=50,\n",
        "         x_true=coefs, verbose=True):\n",
        "    \"\"\"Accelerated Proximal gradient descent algorithm\"\"\"\n",
        "    x = x0.copy()\n",
        "    x_new = x0.copy()\n",
        "    # An extra variable is required for APGD\n",
        "    z = x0.copy()\n",
        "    n_samples, n_features = A.shape\n",
        "    # estimation error history\n",
        "    errors = []\n",
        "    # objective history\n",
        "    objectives = []\n",
        "    # Current estimation error\n",
        "    err = norm(x - x_true) / norm(x_true)\n",
        "    errors.append(err)\n",
        "    # Current objective\n",
        "    obj = f(x, A, b) + R(x, lmbd)\n",
        "    objectives.append(obj)\n",
        "    t = 1.\n",
        "    t_new = 1.    \n",
        "    if verbose:\n",
        "        print(\"Lauching APGD solver...\")\n",
        "        print(' | '.join([name.center(8) for name in [\"it\", \"obj\", \"err\"]]))\n",
        "    for k in range(n_iter + 1):\n",
        "\n",
        "        #### TODO ####\n",
        "        x_new = prox_R(z - step*grad_f(z, A, b), lmbd*step)\n",
        "        t_new = (1 + np.sqrt(1 + 4*t**2)) / 2\n",
        "        z_new = x_new + (t-1) / t_new * (x_new - x)\n",
        "        x, t, z = x_new, t_new, z_new\n",
        "        obj = f(x, A, b) + R(x, lmbd)\n",
        "        err = norm(x - x_true) / norm(x_true)\n",
        "        errors.append(err)\n",
        "        objectives.append(obj)\n",
        "        if k % 10 == 0 and verbose:\n",
        "            print(' | '.join([(\"%d\" % k).rjust(8), \n",
        "                              (\"%.2e\" % obj).rjust(8), \n",
        "                              (\"%.2e\" % err).rjust(8)]))\n",
        "    return x, np.array(objectives), np.array(errors)"
      ],
      "execution_count": 0,
      "outputs": []
    },
    {
      "cell_type": "markdown",
      "metadata": {
        "id": "6oO7ZAq2J1xS",
        "colab_type": "text"
      },
      "source": [
        "## Algorithms comparison and numerical experiments"
      ]
    },
    {
      "cell_type": "code",
      "metadata": {
        "id": "G87EpeyjJ1xc",
        "colab_type": "code",
        "colab": {}
      },
      "source": [
        "# Some definitions before launching the algorithms\n",
        "x0 = np.zeros(n_features)\n",
        "n_iter = 1000\n",
        "lmbd = 1e-2"
      ],
      "execution_count": 0,
      "outputs": []
    },
    {
      "cell_type": "markdown",
      "metadata": {
        "id": "1WzSe6rNJ1x3",
        "colab_type": "text"
      },
      "source": [
        "<div class=\"alert alert-success\">\n",
        "    <b>Questions</b>:\n",
        "     <ul>\n",
        "      <li>Compute a precise minimum and a precise minimizer of the problem (linear regression or logistic regression) using the parameters given above. This can be done by using APGD with 1000 iterations and setting `x_true` to `coeffs`.</li>\n",
        "    <li>Compare the convergences of PGD and APGD, in terms of distance to the minimum and \n",
        "  distance to the minimizer you have computed. Do your plots using a logarithmic scale of the y-axis.</li>\n",
        "    </ul>\n",
        "</div>"
      ]
    },
    {
      "cell_type": "markdown",
      "metadata": {
        "id": "596etJ9kJ1x9",
        "colab_type": "text"
      },
      "source": [
        "### Computation of a precise minimum/minimizer using FISTA (LASSO regression)"
      ]
    },
    {
      "cell_type": "code",
      "metadata": {
        "id": "MoK24OVmJ1yD",
        "colab_type": "code",
        "outputId": "6cbb1187-1408-4008-d23d-e1041e1dc632",
        "colab": {
          "base_uri": "https://localhost:8080/",
          "height": 187
        }
      },
      "source": [
        "x_minimizer_fista, vec_obj_fista, vec_err_fista = APGD(x0, A=A, b=b,\n",
        "    f=loss_linreg, grad_f=grad_linreg, \n",
        "    R=L1_norm, prox_R=prox_L1, step=1/smooth_linreg, \n",
        "    lmbd=lmbd, n_iter=n_iter, x_true=coefs, verbose=False)\n",
        "\n",
        "min_fista = loss_linreg(x_minimizer_fista, A, b) + L1_norm(x_minimizer_fista, lmbd=lmbd)\n",
        "print('FISTA minimizer : x*=' + str(x_minimizer_fista))\n",
        "print('Value of the objective function in the FISTA minimizer : f(x*) + lambda*R(x*) = ' + str(min_fista))\n",
        "print('Final estimation error : ' + str(vec_err_fista[-1]))"
      ],
      "execution_count": 0,
      "outputs": [
        {
          "output_type": "stream",
          "text": [
            "FISTA minimizer : x*=[ 1.09e+00 -9.54e-01  8.50e-01 -7.22e-01  6.78e-01 -7.03e-01  5.25e-01\n",
            " -3.78e-01  3.53e-01 -3.79e-01  2.90e-01 -2.41e-01  2.79e-01 -3.25e-01\n",
            "  2.66e-01 -2.22e-01  1.74e-01 -1.57e-01  1.61e-01 -1.17e-01 -7.20e-03\n",
            "  1.85e-02 -0.00e+00  0.00e+00 -0.00e+00 -0.00e+00 -0.00e+00 -0.00e+00\n",
            "  8.29e-04 -0.00e+00 -5.72e-03  2.33e-02 -0.00e+00 -0.00e+00  0.00e+00\n",
            "  1.65e-02 -0.00e+00  0.00e+00  0.00e+00  3.22e-02 -7.00e-02  8.69e-02\n",
            "  0.00e+00  9.51e-03  1.94e-02 -0.00e+00 -3.39e-02 -2.63e-02 -9.23e-03\n",
            "  0.00e+00]\n",
            "Value of the objective function in the FISTA minimizer : f(x*) + lambda*R(x*) = 0.5815280243869188\n",
            "Final estimation error : 0.12373916264317077\n"
          ],
          "name": "stdout"
        }
      ]
    },
    {
      "cell_type": "markdown",
      "metadata": {
        "id": "11r99i17J1yV",
        "colab_type": "text"
      },
      "source": [
        "### Comparison of PGD and APGD rates of convergence"
      ]
    },
    {
      "cell_type": "markdown",
      "metadata": {
        "id": "OqgedwLRJ1yc",
        "colab_type": "text"
      },
      "source": [
        "We compute and plot for each algorithm and each iteration : $\\frac{f(x^t)-f(x^*)}{\\parallel x^1 - x^* \\parallel^2_2}$"
      ]
    },
    {
      "cell_type": "code",
      "metadata": {
        "id": "qKT72mp5J1yj",
        "colab_type": "code",
        "outputId": "cf0d393c-507b-4296-a193-040c72debe6e",
        "colab": {
          "base_uri": "https://localhost:8080/",
          "height": 297
        }
      },
      "source": [
        "# Compute ISTA solution\n",
        "x_minimizer_ista, vec_obj_ista, vec_err_ista = PGD(x0=x0, A=A, b=b,\n",
        "    f=loss_linreg, grad_f=grad_linreg, \n",
        "    R=L1_norm, prox_R=prox_L1, step=1/smooth_linreg, \n",
        "    lmbd=lmbd, n_iter=n_iter, x_true=coefs, verbose=False)\n",
        "\n",
        "min_ista = loss_linreg(x_minimizer_ista, A, b) + L1_norm(x_minimizer_ista, lmbd=lmbd)\n",
        "\n",
        "# Compute distance between objective and minimum at each period, normalized by the distance\n",
        "# between the initialization vector and the final minimizer\n",
        "vec_dist_norm_ista = (vec_obj_ista - min_ista) / norm(x0 - x_minimizer_ista, 2)**2\n",
        "vec_dist_norm_fista = (vec_obj_fista - min_fista) / norm(x0 - x_minimizer_fista, 2)**2\n",
        "\n",
        "fig, plt_convergence = plt.subplots(1, 1, figsize=(8, 4))\n",
        "plt_convergence.plot(vec_dist_norm_ista[:50], color='red', label='ISTA')\n",
        "plt_convergence.plot(vec_dist_norm_fista[:50], color='blue', label='FISTA')\n",
        "plt.yscale('log')\n",
        "plt_convergence.set_title('Convergence rates of ISTA and FISTA (log scale)', size=12)\n",
        "plt_convergence.legend()\n",
        "plt.tight_layout()"
      ],
      "execution_count": 0,
      "outputs": [
        {
          "output_type": "display_data",
          "data": {
            "image/png": "[encoded data removed]",
            "text/plain": [
              "<Figure size 576x288 with 1 Axes>"
            ]
          },
          "metadata": {
            "tags": []
          }
        }
      ]
    },
    {
      "cell_type": "markdown",
      "metadata": {
        "id": "4FgZpjqIJ1y7",
        "colab_type": "text"
      },
      "source": [
        "The PGD curve appears linear, which suggest a convergence at log speed. As expected, the APGD reaches a satisfactory solution (tolerance < 0.001) much quicker : it requires only about 10 iterations, whereas the PGD requires about 30 iterations to get to the same tolerance level."
      ]
    },
    {
      "cell_type": "markdown",
      "metadata": {
        "id": "6YiXQN9KJ1zA",
        "colab_type": "text"
      },
      "source": [
        "<div class=\"alert alert-success\">\n",
        "    <b>EXERCISE</b>:\n",
        "     <ul>\n",
        "      <li>Compare the solution you obtain with ista and fista with the true parameter `coefs` of\n",
        "  the model. This can be done with `plt.stem` plots.</li>\n",
        "    <li>In linear regression and logistic regression, study the influence of the correlation \n",
        "  of the features on the performance of the optimization algorithms. Explain.</li>\n",
        "    <li>In linear regression and logistic regression, study the influence of the level of L2 \n",
        "  penalization on the performance of the optimization algorithms. Explain.</li>\n",
        "    <li>In linear regression and logistic regression, compare the performance of the optimization\n",
        "  algorithms for L2 and L1 penalizations. Explain</li>\n",
        "    </ul>\n",
        "</div>"
      ]
    },
    {
      "cell_type": "markdown",
      "metadata": {
        "id": "FmqGniXuJ1zH",
        "colab_type": "text"
      },
      "source": [
        "### Comparison of ISTA/FISTA estimated coefficients and true coefficients"
      ]
    },
    {
      "cell_type": "code",
      "metadata": {
        "id": "M4jI_G-0J1zN",
        "colab_type": "code",
        "outputId": "98af2398-4f5d-40d4-ae1f-9db19107ec09",
        "colab": {
          "base_uri": "https://localhost:8080/",
          "height": 369
        }
      },
      "source": [
        "# Ista and Fista solutions are identical so we plot only one solution\n",
        "fig, plt_coefs = plt.subplots(1, 1, figsize=(8, 5))\n",
        "plt_coefs.stem(coefs, linefmt='k', markerfmt='ko', label='True')\n",
        "plt_coefs.stem(x_minimizer_ista, linefmt='-b',markerfmt='bo', label='Ista/Fista')\n",
        "plt_coefs.set_title('Comparison of true and estimated coefficients', size=12)\n",
        "plt_coefs.legend()\n",
        "plt.tight_layout()"
      ],
      "execution_count": 0,
      "outputs": [
        {
          "output_type": "display_data",
          "data": {
            "image/png": "[encoded data removed]",
            "text/plain": [
              "<Figure size 576x360 with 1 Axes>"
            ]
          },
          "metadata": {
            "tags": []
          }
        }
      ]
    },
    {
      "cell_type": "markdown",
      "metadata": {
        "id": "TSQVeW7LJ1zh",
        "colab_type": "text"
      },
      "source": [
        "If we set the number of iterations sufficiently high, ISTA and FISTA both reach the same solution. This solution appears very close to the true coefficients distribution, which corroborates the low error rates we get after convergence of both algorithms."
      ]
    },
    {
      "cell_type": "markdown",
      "metadata": {
        "id": "m2V-aUxuJ1zn",
        "colab_type": "text"
      },
      "source": [
        "### Influence of features correlation on the performance of the optimization algorithms"
      ]
    },
    {
      "cell_type": "code",
      "metadata": {
        "id": "2cv0DbX_J1zt",
        "colab_type": "code",
        "colab": {}
      },
      "source": [
        "corr_levels = np.array(range(11)) / 10"
      ],
      "execution_count": 0,
      "outputs": []
    },
    {
      "cell_type": "code",
      "metadata": {
        "id": "UrL9UbY8J10C",
        "colab_type": "code",
        "outputId": "d6e962bb-4704-496a-f1f3-d8e6cbe98269",
        "colab": {
          "base_uri": "https://localhost:8080/",
          "height": 297
        }
      },
      "source": [
        "# Simulate linear regression for various correlation levels\n",
        "linregs_corr = [simu_linreg(coefs, n_samples=1000, corr=c) for c in corr_levels]\n",
        "\n",
        "# Perform APGD for each simulated data, store final error levels\n",
        "apgd_errors_corr_lin = [APGD(x0=x0, A=linregs_corr[i][0], b=linregs_corr[i][1],\n",
        "    f=loss_linreg, grad_f=grad_linreg, \n",
        "    R=L1_norm, prox_R=prox_L1, step=1/smooth_linreg, \n",
        "    lmbd=lmbd, n_iter=20, x_true=coefs, verbose=False)[2][-1]\n",
        "              for i in range(len(linregs_corr))]\n",
        "\n",
        "# Plot error levels against correlation levels\n",
        "fig, plt_correlations_lin = plt.subplots(1, 1, figsize=(8, 4))\n",
        "plt_correlations_lin.plot(corr_levels, apgd_errors_corr_lin, color='black')\n",
        "plt.yscale('log')\n",
        "plt_correlations_lin.set_title('Estimation error for various correlation levels in linear regression (log scale)', size=12)\n",
        "plt.tight_layout()"
      ],
      "execution_count": 0,
      "outputs": [
        {
          "output_type": "display_data",
          "data": {
            "image/png": "[encoded data removed]",
            "text/plain": [
              "<Figure size 576x288 with 1 Axes>"
            ]
          },
          "metadata": {
            "tags": []
          }
        }
      ]
    },
    {
      "cell_type": "code",
      "metadata": {
        "id": "lJtSLk8yJ10a",
        "colab_type": "code",
        "outputId": "7936db2d-7b01-4780-8a5e-27ee05049149",
        "colab": {
          "base_uri": "https://localhost:8080/",
          "height": 297
        }
      },
      "source": [
        "# Simulate logistic regression for various correlation levels\n",
        "logregs_corr = [simu_logreg(coefs, n_samples=1000, corr=c) for c in corr_levels]\n",
        "\n",
        "# Perform APGD for each simulated data, store final error levels\n",
        "apgd_errors_corr_log = [APGD(x0=x0, A=logregs_corr[i][0], b=logregs_corr[i][1],\n",
        "    f=loss_logreg, grad_f=grad_logreg, \n",
        "    R=L1_norm, prox_R=prox_L1, step=1/smooth_logreg, \n",
        "    lmbd=lmbd, n_iter=20, x_true=coefs, verbose=False)[2][-1]\n",
        "              for i in range(len(logregs_corr))]\n",
        "\n",
        "# Plot error levels against correlation levels\n",
        "fig, plt_correlations_log = plt.subplots(1, 1, figsize=(8, 4))\n",
        "plt_correlations_log.plot(corr_levels, apgd_errors_corr_log, color='black')\n",
        "plt_correlations_log.set_title('Estimation error for various correlation levels in logistic regression (log scale)', size=12)\n",
        "plt.tight_layout()"
      ],
      "execution_count": 0,
      "outputs": [
        {
          "output_type": "display_data",
          "data": {
            "image/png": "[encoded data removed]",
            "text/plain": [
              "<Figure size 576x288 with 1 Axes>"
            ]
          },
          "metadata": {
            "tags": []
          }
        }
      ]
    },
    {
      "cell_type": "markdown",
      "metadata": {
        "id": "rkMs7hNSJ101",
        "colab_type": "text"
      },
      "source": [
        "In both linear and logistic regressions, the estimation error we get after convergence goes up as the correlation between features increases. This problem seems particularly important for LASSO, as levels of correlation above 0.6 appear to generate erratic behavior, as indicated by the error rate which goes much higher than one. In logistic regression, the relation appears much more continuous. \n",
        "\n",
        "The rationale for this observed relationship might be that the presence of multicolinearity (i.e. high levels of correlations between multiple features) reduces the available statistical information in the data, as very few features are needed to summarize this information. As a result, it is harder for the training algorithm to reach a satisfactory solution, similarly to a case in which we would reduce the sample size."
      ]
    },
    {
      "cell_type": "markdown",
      "metadata": {
        "id": "CGUT8By2J11B",
        "colab_type": "text"
      },
      "source": [
        "### Influence of L2-penalization levels on the performance of the optimization algorithms"
      ]
    },
    {
      "cell_type": "code",
      "metadata": {
        "id": "tgKwEGGeJ11I",
        "colab_type": "code",
        "colab": {}
      },
      "source": [
        "lambda_range = np.array([1E-6, 1E-5, 1E-4, 1E-3, 1E-2, 1E-1, 1, 10, 100])"
      ],
      "execution_count": 0,
      "outputs": []
    },
    {
      "cell_type": "code",
      "metadata": {
        "id": "mQd8PC2MJ11b",
        "colab_type": "code",
        "outputId": "6052c21b-02ea-4246-f5f0-41c2c84fecaf",
        "colab": {
          "base_uri": "https://localhost:8080/",
          "height": 297
        }
      },
      "source": [
        "# Linear regression\n",
        "\n",
        "# Store final error levels for each value of lambda\n",
        "apgd_errors_penal_lin = [APGD(x0=x0, A=A, b=b,\n",
        "    f=loss_linreg, grad_f=grad_linreg, \n",
        "    R=L2_norm, prox_R=prox_L2, step=1/smooth_linreg, \n",
        "    lmbd=l, n_iter=20, x_true=coefs, verbose=False)[2][-1]\n",
        "              for l in lambda_range]\n",
        "\n",
        "lambda_min_linreg = lambda_range[np.argmin(apgd_errors_penal_lin)]\n",
        "\n",
        "# Plot error levels against correlation levels\n",
        "fig, plt_l2penal_lin = plt.subplots(1, 1, figsize=(8, 4))\n",
        "plt_l2penal_lin.plot(lambda_range, apgd_errors_penal_lin, color='black')\n",
        "plt.xscale('log')\n",
        "plt_l2penal_lin.set_title('Estimation error for various L2-penalization levels in linear regression)', size=12)\n",
        "plt.tight_layout()"
      ],
      "execution_count": 0,
      "outputs": [
        {
          "output_type": "display_data",
          "data": {
            "image/png": "[encoded data removed]",
            "text/plain": [
              "<Figure size 576x288 with 1 Axes>"
            ]
          },
          "metadata": {
            "tags": []
          }
        }
      ]
    },
    {
      "cell_type": "code",
      "metadata": {
        "id": "xooO7FeZJ11p",
        "colab_type": "code",
        "outputId": "b8e8bd4a-44c2-4019-cf7e-89a8de235f02",
        "colab": {
          "base_uri": "https://localhost:8080/",
          "height": 297
        }
      },
      "source": [
        "# Simulate logistic regression\n",
        "A_log, b_log = simu_logreg(coefs)\n",
        "\n",
        "# Store final error levels for each value of lambda\n",
        "apgd_errors_penal_log = [APGD(x0=x0, A=A_log, b=b_log,\n",
        "    f=loss_logreg, grad_f=grad_logreg, \n",
        "    R=L2_norm, prox_R=prox_L2, step=1/smooth_logreg, \n",
        "    lmbd=l, n_iter=20, x_true=coefs, verbose=False)[2][-1]\n",
        "              for l in lambda_range]\n",
        "\n",
        "lambda_min_logreg = lambda_range[np.argmin(apgd_errors_penal_log)]\n",
        "\n",
        "# Plot error levels against correlation levels\n",
        "fig, plt_l2penal_log = plt.subplots(1, 1, figsize=(8, 4))\n",
        "plt_l2penal_log.plot(lambda_range, apgd_errors_penal_log, color='black')\n",
        "plt.xscale('log')\n",
        "plt_l2penal_log.set_title('Estimation error for various L2-penalization levels in logistic regression)', size=12)\n",
        "plt.tight_layout()"
      ],
      "execution_count": 0,
      "outputs": [
        {
          "output_type": "display_data",
          "data": {
            "image/png": "[encoded data removed]",
            "text/plain": [
              "<Figure size 576x288 with 1 Axes>"
            ]
          },
          "metadata": {
            "tags": []
          }
        }
      ]
    },
    {
      "cell_type": "markdown",
      "metadata": {
        "id": "jiC8PXG_J12H",
        "colab_type": "text"
      },
      "source": [
        "For a given correlation level between features of 0.5, we find that the level of L2-penalization that minimizes the error rate is equal to 1E-6, both for linear and logistic regresssion. However, in both cases, the error rates remain very close for values of lambda inferior or equal to 1E-2. These results suggest that (very) small levels of L2-penalization are preferable for an optimal estimation of the coefficients. The reason for that might be that higher values of the peanlization tend to overreduce the weights as compared to the ground truth. However, we might get different optimal penalization levels for different correlation levels between features in the dataset."
      ]
    },
    {
      "cell_type": "markdown",
      "metadata": {
        "id": "cR5kPeWsJ12M",
        "colab_type": "text"
      },
      "source": [
        "### Influence of the penalization type on the performance of the optimization algorithms"
      ]
    },
    {
      "cell_type": "code",
      "metadata": {
        "id": "3VrReCYiJ12R",
        "colab_type": "code",
        "outputId": "20e9f61d-afdb-4aa7-8696-949ab2efd1cc",
        "colab": {
          "base_uri": "https://localhost:8080/",
          "height": 298
        }
      },
      "source": [
        "error_linreg_l1 = APGD(x0=x0, A=A, b=b,\n",
        "    f=loss_linreg, grad_f=grad_linreg, \n",
        "    R=L1_norm, prox_R=prox_L1, step=1/smooth_linreg, \n",
        "    lmbd=lambda_min_linreg, n_iter=20, x_true=coefs, verbose=False)[2][-1]\n",
        "\n",
        "error_linreg_l2 = APGD(x0=x0, A=A, b=b,\n",
        "    f=loss_linreg, grad_f=grad_linreg, \n",
        "    R=L2_norm, prox_R=prox_L2, step=1/smooth_linreg, \n",
        "    lmbd=lambda_min_linreg, n_iter=20, x_true=coefs, verbose=False)[2][-1]\n",
        "\n",
        "error_logreg_l1 = APGD(x0=x0, A=A_log, b=b_log,\n",
        "    f=loss_logreg, grad_f=grad_logreg, \n",
        "    R=L1_norm, prox_R=prox_L1, step=1/smooth_logreg, \n",
        "    lmbd=lambda_min_logreg, n_iter=20, x_true=coefs, verbose=False)[2][-1]\n",
        "\n",
        "error_logreg_l2 = APGD(x0=x0, A=A_log, b=b_log,\n",
        "    f=loss_logreg, grad_f=grad_logreg, \n",
        "    R=L2_norm, prox_R=prox_L2, step=1/smooth_logreg, \n",
        "    lmbd=lambda_min_logreg, n_iter=20, x_true=coefs, verbose=False)[2][-1]\n",
        "\n",
        "reg_types = ['linear', 'logistic']\n",
        "l1_errors = [error_linreg_l1, error_logreg_l1]\n",
        "l2_errors = [error_linreg_l2, error_logreg_l2]\n",
        "\n",
        "x = np.arange(len(reg_types))\n",
        "width = 0.35 \n",
        "\n",
        "fig, ax = plt.subplots()\n",
        "rects1 = ax.bar(x - width/2, l1_errors, width, label='L1')\n",
        "rects2 = ax.bar(x + width/2, l2_errors, width, label='L2')\n",
        "\n",
        "# Add some text for labels, title and custom x-axis tick labels, etc.\n",
        "ax.set_title('Comparison of error levels depending on the penalization type')\n",
        "ax.set_xticks(x)\n",
        "ax.set_xticklabels(reg_types)\n",
        "ax.legend()"
      ],
      "execution_count": 0,
      "outputs": [
        {
          "output_type": "execute_result",
          "data": {
            "text/plain": [
              "<matplotlib.legend.Legend at 0x7f5d82a7c128>"
            ]
          },
          "metadata": {
            "tags": []
          },
          "execution_count": 26
        },
        {
          "output_type": "display_data",
          "data": {
            "image/png": "[encoded data removed]",
            "text/plain": [
              "<Figure size 432x288 with 1 Axes>"
            ]
          },
          "metadata": {
            "tags": []
          }
        }
      ]
    },
    {
      "cell_type": "markdown",
      "metadata": {
        "id": "rqM3OQqbJ12t",
        "colab_type": "text"
      },
      "source": [
        "For both linear and logistic regressions, the L1-penalization slightly outperforms the L2-penalization. The reason for that is very likely that the distribution of the true coefficients is very sparse (a lot of the coefficients have been set to 0). As a result, the L1-penalization exhibits better performance as its effect is precisely to set some weights to 0 due to the fact that it is based on soft-thresholding of the coefficients."
      ]
    }
  ]
}